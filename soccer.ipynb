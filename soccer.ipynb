{
 "cells": [
  {
   "cell_type": "code",
   "execution_count": 60,
   "metadata": {},
   "outputs": [],
   "source": [
    "import os\n",
    "import numpy as np\n",
    "import pandas as pd\n",
    "import matplotlib.pyplot as plt\n",
    "%matplotlib inline"
   ]
  },
  {
   "cell_type": "code",
   "execution_count": 61,
   "metadata": {},
   "outputs": [],
   "source": [
    "os.chdir(\"C:\\\\Users\\\\Archana\\\\Desktop\\\\datasets\")"
   ]
  },
  {
   "cell_type": "code",
   "execution_count": 62,
   "metadata": {},
   "outputs": [
    {
     "data": {
      "text/html": [
       "<div>\n",
       "<style scoped>\n",
       "    .dataframe tbody tr th:only-of-type {\n",
       "        vertical-align: middle;\n",
       "    }\n",
       "\n",
       "    .dataframe tbody tr th {\n",
       "        vertical-align: top;\n",
       "    }\n",
       "\n",
       "    .dataframe thead th {\n",
       "        text-align: right;\n",
       "    }\n",
       "</style>\n",
       "<table border=\"1\" class=\"dataframe\">\n",
       "  <thead>\n",
       "    <tr style=\"text-align: right;\">\n",
       "      <th></th>\n",
       "      <th>match_date</th>\n",
       "      <th>home_country</th>\n",
       "      <th>away_country</th>\n",
       "      <th>home_score</th>\n",
       "      <th>away_score</th>\n",
       "      <th>match_type</th>\n",
       "      <th>match_city</th>\n",
       "      <th>match_country</th>\n",
       "      <th>home_team_result</th>\n",
       "    </tr>\n",
       "  </thead>\n",
       "  <tbody>\n",
       "    <tr>\n",
       "      <th>0</th>\n",
       "      <td>1872-11-30</td>\n",
       "      <td>Scotland</td>\n",
       "      <td>England</td>\n",
       "      <td>0.0</td>\n",
       "      <td>0.0</td>\n",
       "      <td>Friendly</td>\n",
       "      <td>Glasgow</td>\n",
       "      <td>Scotland</td>\n",
       "      <td>Draw</td>\n",
       "    </tr>\n",
       "    <tr>\n",
       "      <th>1</th>\n",
       "      <td>1873-03-08</td>\n",
       "      <td>England</td>\n",
       "      <td>Scotland</td>\n",
       "      <td>4.0</td>\n",
       "      <td>2.0</td>\n",
       "      <td>Friendly</td>\n",
       "      <td>London</td>\n",
       "      <td>England</td>\n",
       "      <td>Win</td>\n",
       "    </tr>\n",
       "    <tr>\n",
       "      <th>2</th>\n",
       "      <td>1874-03-07</td>\n",
       "      <td>Scotland</td>\n",
       "      <td>England</td>\n",
       "      <td>2.0</td>\n",
       "      <td>1.0</td>\n",
       "      <td>Friendly</td>\n",
       "      <td>Glasgow</td>\n",
       "      <td>Scotland</td>\n",
       "      <td>Win</td>\n",
       "    </tr>\n",
       "    <tr>\n",
       "      <th>3</th>\n",
       "      <td>1875-03-06</td>\n",
       "      <td>England</td>\n",
       "      <td>Scotland</td>\n",
       "      <td>2.0</td>\n",
       "      <td>2.0</td>\n",
       "      <td>Friendly</td>\n",
       "      <td>London</td>\n",
       "      <td>England</td>\n",
       "      <td>Draw</td>\n",
       "    </tr>\n",
       "    <tr>\n",
       "      <th>4</th>\n",
       "      <td>1876-03-04</td>\n",
       "      <td>Scotland</td>\n",
       "      <td>England</td>\n",
       "      <td>3.0</td>\n",
       "      <td>0.0</td>\n",
       "      <td>Friendly</td>\n",
       "      <td>Glasgow</td>\n",
       "      <td>Scotland</td>\n",
       "      <td>Win</td>\n",
       "    </tr>\n",
       "  </tbody>\n",
       "</table>\n",
       "</div>"
      ],
      "text/plain": [
       "   match_date home_country away_country  home_score  away_score match_type  \\\n",
       "0  1872-11-30     Scotland      England         0.0         0.0   Friendly   \n",
       "1  1873-03-08      England     Scotland         4.0         2.0   Friendly   \n",
       "2  1874-03-07     Scotland      England         2.0         1.0   Friendly   \n",
       "3  1875-03-06      England     Scotland         2.0         2.0   Friendly   \n",
       "4  1876-03-04     Scotland      England         3.0         0.0   Friendly   \n",
       "\n",
       "  match_city match_country home_team_result  \n",
       "0    Glasgow      Scotland             Draw  \n",
       "1     London       England              Win  \n",
       "2    Glasgow      Scotland              Win  \n",
       "3     London       England             Draw  \n",
       "4    Glasgow      Scotland              Win  "
      ]
     },
     "execution_count": 62,
     "metadata": {},
     "output_type": "execute_result"
    }
   ],
   "source": [
    "d=pd.read_csv(\"soccer.csv\")\n",
    "d.head(5)"
   ]
  },
  {
   "cell_type": "code",
   "execution_count": 63,
   "metadata": {},
   "outputs": [
    {
     "data": {
      "text/plain": [
       "match_date           object\n",
       "home_country         object\n",
       "away_country         object\n",
       "home_score          float64\n",
       "away_score          float64\n",
       "match_type           object\n",
       "match_city           object\n",
       "match_country        object\n",
       "home_team_result     object\n",
       "dtype: object"
      ]
     },
     "execution_count": 63,
     "metadata": {},
     "output_type": "execute_result"
    }
   ],
   "source": [
    "d.dtypes"
   ]
  },
  {
   "cell_type": "code",
   "execution_count": 64,
   "metadata": {},
   "outputs": [
    {
     "data": {
      "text/plain": [
       "Index(['match_date', 'home_country', 'away_country', 'home_score',\n",
       "       'away_score', 'match_type', 'match_city', 'match_country',\n",
       "       'home_team_result'],\n",
       "      dtype='object')"
      ]
     },
     "execution_count": 64,
     "metadata": {},
     "output_type": "execute_result"
    }
   ],
   "source": [
    "d.columns"
   ]
  },
  {
   "cell_type": "code",
   "execution_count": 65,
   "metadata": {},
   "outputs": [
    {
     "data": {
      "text/plain": [
       "match_date           0\n",
       "home_country         4\n",
       "away_country         8\n",
       "home_score           8\n",
       "away_score           7\n",
       "match_type          13\n",
       "match_city          10\n",
       "match_country        1\n",
       "home_team_result     0\n",
       "dtype: int64"
      ]
     },
     "execution_count": 65,
     "metadata": {},
     "output_type": "execute_result"
    }
   ],
   "source": [
    "d.isna().sum()"
   ]
  },
  {
   "cell_type": "code",
   "execution_count": 66,
   "metadata": {},
   "outputs": [
    {
     "data": {
      "text/html": [
       "<div>\n",
       "<style scoped>\n",
       "    .dataframe tbody tr th:only-of-type {\n",
       "        vertical-align: middle;\n",
       "    }\n",
       "\n",
       "    .dataframe tbody tr th {\n",
       "        vertical-align: top;\n",
       "    }\n",
       "\n",
       "    .dataframe thead th {\n",
       "        text-align: right;\n",
       "    }\n",
       "</style>\n",
       "<table border=\"1\" class=\"dataframe\">\n",
       "  <thead>\n",
       "    <tr style=\"text-align: right;\">\n",
       "      <th></th>\n",
       "      <th>home_score</th>\n",
       "      <th>away_score</th>\n",
       "    </tr>\n",
       "  </thead>\n",
       "  <tbody>\n",
       "    <tr>\n",
       "      <th>count</th>\n",
       "      <td>38677.000000</td>\n",
       "      <td>38678.000000</td>\n",
       "    </tr>\n",
       "    <tr>\n",
       "      <th>mean</th>\n",
       "      <td>1.728986</td>\n",
       "      <td>1.194529</td>\n",
       "    </tr>\n",
       "    <tr>\n",
       "      <th>std</th>\n",
       "      <td>1.722210</td>\n",
       "      <td>1.397185</td>\n",
       "    </tr>\n",
       "    <tr>\n",
       "      <th>min</th>\n",
       "      <td>0.000000</td>\n",
       "      <td>0.000000</td>\n",
       "    </tr>\n",
       "    <tr>\n",
       "      <th>25%</th>\n",
       "      <td>1.000000</td>\n",
       "      <td>0.000000</td>\n",
       "    </tr>\n",
       "    <tr>\n",
       "      <th>50%</th>\n",
       "      <td>1.000000</td>\n",
       "      <td>1.000000</td>\n",
       "    </tr>\n",
       "    <tr>\n",
       "      <th>75%</th>\n",
       "      <td>2.000000</td>\n",
       "      <td>2.000000</td>\n",
       "    </tr>\n",
       "    <tr>\n",
       "      <th>max</th>\n",
       "      <td>31.000000</td>\n",
       "      <td>22.000000</td>\n",
       "    </tr>\n",
       "  </tbody>\n",
       "</table>\n",
       "</div>"
      ],
      "text/plain": [
       "         home_score    away_score\n",
       "count  38677.000000  38678.000000\n",
       "mean       1.728986      1.194529\n",
       "std        1.722210      1.397185\n",
       "min        0.000000      0.000000\n",
       "25%        1.000000      0.000000\n",
       "50%        1.000000      1.000000\n",
       "75%        2.000000      2.000000\n",
       "max       31.000000     22.000000"
      ]
     },
     "execution_count": 66,
     "metadata": {},
     "output_type": "execute_result"
    }
   ],
   "source": [
    "d.describe()"
   ]
  },
  {
   "cell_type": "code",
   "execution_count": 67,
   "metadata": {},
   "outputs": [
    {
     "data": {
      "text/plain": [
       "Friendly                                16196\n",
       "FIFA World Cup qualification             7071\n",
       "UEFA Euro qualification                  2330\n",
       "African Cup of Nations qualification     1558\n",
       "FIFA World Cup                            836\n",
       "Copa América                              786\n",
       "AFC Asian Cup qualification               711\n",
       "African Cup of Nations                    638\n",
       "CFU Caribbean Cup qualification           606\n",
       "CECAFA Cup                                600\n",
       "Merdeka Tournament                        504\n",
       "British Championship                      501\n",
       "Gulf Cup                                  333\n",
       "AFC Asian Cup                             319\n",
       "Gold Cup                                  297\n",
       "UEFA Euro                                 286\n",
       "Nordic Championship                       283\n",
       "AFF Championship                          267\n",
       "COSAFA Cup                                252\n",
       "CFU Caribbean Cup                         251\n",
       "Amílcar Cabral Cup                        235\n",
       "King's Cup                                234\n",
       "South Pacific Games                       198\n",
       "African Nations Championship              184\n",
       "UNCAF Cup                                 164\n",
       "Korea Cup                                 158\n",
       "Confederations Cup                        140\n",
       "International Cup                         127\n",
       "SAFF Cup                                  124\n",
       "CCCF Championship                         123\n",
       "                                        ...  \n",
       "Copa del Pacífico                          19\n",
       "Copa Rio Branco                            18\n",
       "Simba Tnmt.                                17\n",
       "Copa Oswaldo Cruz                          16\n",
       "Copa Juan Pinto Durán                      16\n",
       "Copa Carlos Dittborn                       16\n",
       "Millennium Cup                             15\n",
       "Copa Premio Honor Uruguayo                 15\n",
       "UNIFFAC Cup                                15\n",
       "Dunhill Cup                                15\n",
       "Nile Basin Tnmt.                           14\n",
       "GaNEFo                                     14\n",
       "Copa Artigas                               13\n",
       "Jordan International Tournament            13\n",
       "Copa Premio Honor Argentino                12\n",
       "King Hassan II Tournament                  12\n",
       "Rous Cup                                   11\n",
       "SKN Football Festival                      11\n",
       "Atlantic Cup                               11\n",
       "Tournoi de France                          10\n",
       "Copa Bernardo O'Higgins                    10\n",
       "UAFA Cup qualification                      9\n",
       "VFF Cup                                     9\n",
       "NAFU Championship                           7\n",
       "Mundialito                                  7\n",
       "Copa Ramón Castilla                         6\n",
       "Nations Cup                                 6\n",
       "Copa Félix Bogado                           6\n",
       "Dragon Cup                                  4\n",
       "OSN Cup                                     4\n",
       "Name: match_type, Length: 95, dtype: int64"
      ]
     },
     "execution_count": 67,
     "metadata": {},
     "output_type": "execute_result"
    }
   ],
   "source": [
    "d[\"match_type\"].value_counts()"
   ]
  },
  {
   "cell_type": "code",
   "execution_count": 68,
   "metadata": {},
   "outputs": [],
   "source": [
    "d['match_type'].fillna('Friendly',inplace=True)"
   ]
  },
  {
   "cell_type": "code",
   "execution_count": 69,
   "metadata": {},
   "outputs": [
    {
     "data": {
      "text/plain": [
       "match_date           0\n",
       "home_country         4\n",
       "away_country         8\n",
       "home_score           8\n",
       "away_score           7\n",
       "match_type           0\n",
       "match_city          10\n",
       "match_country        1\n",
       "home_team_result     0\n",
       "dtype: int64"
      ]
     },
     "execution_count": 69,
     "metadata": {},
     "output_type": "execute_result"
    }
   ],
   "source": [
    "d.isna().sum()"
   ]
  },
  {
   "cell_type": "code",
   "execution_count": 70,
   "metadata": {},
   "outputs": [
    {
     "data": {
      "text/plain": [
       "Kuala Lumpur          567\n",
       "Bangkok               421\n",
       "Doha                  413\n",
       "Budapest              375\n",
       "London                372\n",
       "Montevideo            343\n",
       "Vienna                329\n",
       "Copenhagen            319\n",
       "Kuwait                317\n",
       "Oslo                  314\n",
       "Buenos Aires          313\n",
       "Glasgow               309\n",
       "Seoul                 288\n",
       "Santiago              287\n",
       "Belfast               284\n",
       "Dublin                282\n",
       "Kampala               277\n",
       "Nairobi               275\n",
       "Lima                  261\n",
       "Helsinki              248\n",
       "Brussels              245\n",
       "San José              244\n",
       "Teheran               239\n",
       "Port of Spain         237\n",
       "Solna                 235\n",
       "Jakarta               233\n",
       "Kingston              233\n",
       "Cairo                 231\n",
       "Muscat                231\n",
       "Sofia                 229\n",
       "                     ... \n",
       "Jounieh                 1\n",
       "Savanna-la-Mar          1\n",
       "Davidson                1\n",
       "Biel                    1\n",
       "Gurjaani                1\n",
       "Kingston upon Hull      1\n",
       "Grenville               1\n",
       "Gentilly                1\n",
       "Cutral Có               1\n",
       "Charkiv                 1\n",
       "Calama                  1\n",
       "Kalamáta                1\n",
       "Jūrmala                 1\n",
       "Ulan Bator              1\n",
       "Bastia Umbra            1\n",
       "Gangtok                 1\n",
       "Tula                    1\n",
       "Shrewsbury              1\n",
       "Mufalira                1\n",
       "Waregem                 1\n",
       "Mmabatho                1\n",
       "Zell am See             1\n",
       "Cluj                    1\n",
       "Kertepe                 1\n",
       "al-Hasa                 1\n",
       "Herzliyya               1\n",
       "Saint-Louis             1\n",
       "Morne-à-l'Eau           1\n",
       "Samsun                  1\n",
       "Oulu                    1\n",
       "Name: match_city, Length: 1795, dtype: int64"
      ]
     },
     "execution_count": 70,
     "metadata": {},
     "output_type": "execute_result"
    }
   ],
   "source": [
    "d['match_city'].value_counts()"
   ]
  },
  {
   "cell_type": "code",
   "execution_count": 71,
   "metadata": {},
   "outputs": [],
   "source": [
    "d['match_city'].fillna('Kuala Lumpur',inplace=True)"
   ]
  },
  {
   "cell_type": "code",
   "execution_count": 72,
   "metadata": {},
   "outputs": [
    {
     "data": {
      "text/plain": [
       "match_date          0\n",
       "home_country        4\n",
       "away_country        8\n",
       "home_score          8\n",
       "away_score          7\n",
       "match_type          0\n",
       "match_city          0\n",
       "match_country       1\n",
       "home_team_result    0\n",
       "dtype: int64"
      ]
     },
     "execution_count": 72,
     "metadata": {},
     "output_type": "execute_result"
    }
   ],
   "source": [
    "d.isna().sum()"
   ]
  },
  {
   "cell_type": "code",
   "execution_count": 73,
   "metadata": {},
   "outputs": [
    {
     "data": {
      "text/plain": [
       "Brazil                       546\n",
       "Argentina                    530\n",
       "Germany                      487\n",
       "Mexico                       480\n",
       "England                      474\n",
       "Sweden                       472\n",
       "France                       459\n",
       "Hungary                      443\n",
       "Korea Republic               440\n",
       "Italy                        432\n",
       "Austria                      407\n",
       "Netherlands                  403\n",
       "Switzerland                  394\n",
       "Belgium                      392\n",
       "Denmark                      390\n",
       "Norway                       387\n",
       "Chile                        384\n",
       "USA                          379\n",
       "Poland                       369\n",
       "Scotland                     368\n",
       "Egypt                        366\n",
       "Spain                        352\n",
       "Kenya                        351\n",
       "Japan                        348\n",
       "Saudi Arabia                 335\n",
       "Uruguay                      331\n",
       "Malawi                       324\n",
       "China                        323\n",
       "Finland                      319\n",
       "Romania                      318\n",
       "                            ... \n",
       "São Tomé and Príncipe         17\n",
       "South Sudan                   14\n",
       "St Martin                     14\n",
       "Kosovo                        13\n",
       "Sint Maarten                  12\n",
       "Bahamas                       12\n",
       "Jersey                        11\n",
       "Montserrat                    10\n",
       "Guernsey                      10\n",
       "Northern Mariana Islands      10\n",
       "Tuvalu                         8\n",
       "Northern Cyprus                8\n",
       "Turks and Caicos Islands       6\n",
       "Mayotte                        6\n",
       "Saarland                       6\n",
       "North Vietnam                  5\n",
       "Kiribati                       5\n",
       "Greenland                      5\n",
       "Monaco                         4\n",
       "Bonaire                        4\n",
       "Taiwan                         3\n",
       "Micronesia FS                  2\n",
       "Yemen DPR                      2\n",
       "Manchukuo                      2\n",
       "Palau                          2\n",
       "Niue                           2\n",
       "Wallis Islands and Futuna      1\n",
       "Nauru                          1\n",
       "Cantabria                      1\n",
       "St Pierre & Miquelon           1\n",
       "Name: home_country, Length: 243, dtype: int64"
      ]
     },
     "execution_count": 73,
     "metadata": {},
     "output_type": "execute_result"
    }
   ],
   "source": [
    "d['home_country'].value_counts()"
   ]
  },
  {
   "cell_type": "code",
   "execution_count": 74,
   "metadata": {},
   "outputs": [],
   "source": [
    "d[\"home_country\"].fillna(\"Brazil\",inplace=True)"
   ]
  },
  {
   "cell_type": "code",
   "execution_count": 75,
   "metadata": {},
   "outputs": [
    {
     "data": {
      "text/plain": [
       "match_date          0\n",
       "home_country        0\n",
       "away_country        8\n",
       "home_score          8\n",
       "away_score          7\n",
       "match_type          0\n",
       "match_city          0\n",
       "match_country       1\n",
       "home_team_result    0\n",
       "dtype: int64"
      ]
     },
     "execution_count": 75,
     "metadata": {},
     "output_type": "execute_result"
    }
   ],
   "source": [
    "d.isna().sum()"
   ]
  },
  {
   "cell_type": "code",
   "execution_count": 80,
   "metadata": {},
   "outputs": [
    {
     "data": {
      "text/plain": [
       "Uruguay                      526\n",
       "Sweden                       515\n",
       "England                      499\n",
       "Hungary                      465\n",
       "Germany                      439\n",
       "Paraguay                     438\n",
       "Poland                       419\n",
       "Argentina                    414\n",
       "Finland                      402\n",
       "Zambia                       401\n",
       "Norway                       395\n",
       "Brazil                       394\n",
       "Scotland                     388\n",
       "Russia                       383\n",
       "Korea Republic               382\n",
       "Switzerland                  379\n",
       "Denmark                      379\n",
       "Netherlands                  361\n",
       "Bulgaria                     360\n",
       "Romania                      356\n",
       "Mexico                       351\n",
       "Austria                      350\n",
       "France                       349\n",
       "Belgium                      349\n",
       "Italy                        348\n",
       "Chile                        347\n",
       "Trinidad and Tobago          343\n",
       "Peru                         325\n",
       "Wales                        321\n",
       "Uganda                       319\n",
       "                            ... \n",
       "Wallis Islands and Futuna     21\n",
       "Samoa                         20\n",
       "São Tomé and Príncipe         20\n",
       "American Samoa                20\n",
       "St Martin                     20\n",
       "Montserrat                    20\n",
       "North Vietnam                 19\n",
       "Bahamas                       15\n",
       "Gibraltar                     15\n",
       "Sint Maarten                  13\n",
       "Mayotte                       12\n",
       "Tuvalu                        12\n",
       "Northern Mariana Islands      11\n",
       "Turks and Caicos Islands      11\n",
       "Guernsey                      10\n",
       "Jersey                        10\n",
       "South Sudan                   10\n",
       "Bonaire                        9\n",
       "Greenland                      6\n",
       "Kosovo                         6\n",
       "Kiribati                       6\n",
       "St Pierre & Miquelon           6\n",
       "Tibet                          6\n",
       "Micronesia FS                  5\n",
       "Northern Cyprus                3\n",
       "Monaco                         3\n",
       "Vatican                        3\n",
       "Saarland                       3\n",
       "Manchukuo                      1\n",
       "St Barthélemy                  1\n",
       "Name: away_country, Length: 243, dtype: int64"
      ]
     },
     "execution_count": 80,
     "metadata": {},
     "output_type": "execute_result"
    }
   ],
   "source": [
    "d['away_country'].value_counts()"
   ]
  },
  {
   "cell_type": "code",
   "execution_count": 77,
   "metadata": {},
   "outputs": [],
   "source": [
    "d[\"away_country\"].fillna(\"Uruguay\",inplace=True)"
   ]
  },
  {
   "cell_type": "code",
   "execution_count": 78,
   "metadata": {},
   "outputs": [
    {
     "data": {
      "text/plain": [
       "match_date          0\n",
       "home_country        0\n",
       "away_country        0\n",
       "home_score          8\n",
       "away_score          7\n",
       "match_type          0\n",
       "match_city          0\n",
       "match_country       1\n",
       "home_team_result    0\n",
       "dtype: int64"
      ]
     },
     "execution_count": 78,
     "metadata": {},
     "output_type": "execute_result"
    }
   ],
   "source": [
    "d.isna().sum()"
   ]
  },
  {
   "cell_type": "code",
   "execution_count": 85,
   "metadata": {},
   "outputs": [],
   "source": [
    "import sklearn"
   ]
  },
  {
   "cell_type": "code",
   "execution_count": 86,
   "metadata": {},
   "outputs": [
    {
     "data": {
      "text/plain": [
       "array([['1872-11-30', 'Scotland', 'England', ..., 'Friendly', 'Glasgow',\n",
       "        'Scotland'],\n",
       "       ['1873-03-08', 'England', 'Scotland', ..., 'Friendly', 'London',\n",
       "        'England'],\n",
       "       ['1874-03-07', 'Scotland', 'England', ..., 'Friendly', 'Glasgow',\n",
       "        'Scotland'],\n",
       "       ...,\n",
       "       ['11/14/2017', 'Trinidad and Tobago', 'Guyana', ..., 'Friendly',\n",
       "        'Couva', 'Trinidad and Tobago'],\n",
       "       ['11/15/2017', 'Australia', 'Honduras', ...,\n",
       "        'FIFA World Cup qualification', 'Sydney', 'Australia'],\n",
       "       ['11/15/2017', 'Peru', 'New Zealand', ...,\n",
       "        'FIFA World Cup qualification', 'Lima', 'Peru']], dtype=object)"
      ]
     },
     "execution_count": 86,
     "metadata": {},
     "output_type": "execute_result"
    }
   ],
   "source": [
    "features=d.iloc[:,:-1].values\n",
    "features"
   ]
  },
  {
   "cell_type": "code",
   "execution_count": 87,
   "metadata": {},
   "outputs": [],
   "source": [
    "from sklearn.preprocessing import Imputer\n",
    "imputer=Imputer(missing_values='NaN',strategy='mean',axis=0)"
   ]
  },
  {
   "cell_type": "code",
   "execution_count": 88,
   "metadata": {},
   "outputs": [
    {
     "data": {
      "text/plain": [
       "array([['1872-11-30', 'Scotland', 'England', ..., 'Friendly', 'Glasgow',\n",
       "        'Scotland'],\n",
       "       ['1873-03-08', 'England', 'Scotland', ..., 'Friendly', 'London',\n",
       "        'England'],\n",
       "       ['1874-03-07', 'Scotland', 'England', ..., 'Friendly', 'Glasgow',\n",
       "        'Scotland'],\n",
       "       ...,\n",
       "       ['11/14/2017', 'Trinidad and Tobago', 'Guyana', ..., 'Friendly',\n",
       "        'Couva', 'Trinidad and Tobago'],\n",
       "       ['11/15/2017', 'Australia', 'Honduras', ...,\n",
       "        'FIFA World Cup qualification', 'Sydney', 'Australia'],\n",
       "       ['11/15/2017', 'Peru', 'New Zealand', ...,\n",
       "        'FIFA World Cup qualification', 'Lima', 'Peru']], dtype=object)"
      ]
     },
     "execution_count": 88,
     "metadata": {},
     "output_type": "execute_result"
    }
   ],
   "source": [
    "imputer.fit(features[:,[3,4]])\n",
    "features[:,[3,4]]=imputer.fit_transform(features[:,[3,4]])\n",
    "features"
   ]
  },
  {
   "cell_type": "code",
   "execution_count": 89,
   "metadata": {},
   "outputs": [
    {
     "data": {
      "text/plain": [
       "match_date          0\n",
       "home_country        0\n",
       "away_country        0\n",
       "home_score          8\n",
       "away_score          7\n",
       "match_type          0\n",
       "match_city          0\n",
       "match_country       1\n",
       "home_team_result    0\n",
       "dtype: int64"
      ]
     },
     "execution_count": 89,
     "metadata": {},
     "output_type": "execute_result"
    }
   ],
   "source": [
    "d.isna().sum()"
   ]
  },
  {
   "cell_type": "code",
   "execution_count": 90,
   "metadata": {},
   "outputs": [],
   "source": [
    "l=d['home_score'].mean()\n",
    "a=d['away_score'].mean()"
   ]
  },
  {
   "cell_type": "code",
   "execution_count": 92,
   "metadata": {},
   "outputs": [],
   "source": [
    "d[\"home_score\"].fillna(\"l\",inplace=True)\n",
    "d[\"away_score\"].fillna(\"a\",inplace=True)"
   ]
  },
  {
   "cell_type": "code",
   "execution_count": 94,
   "metadata": {},
   "outputs": [
    {
     "data": {
      "text/plain": [
       "match_date          0\n",
       "home_country        0\n",
       "away_country        0\n",
       "home_score          0\n",
       "away_score          0\n",
       "match_type          0\n",
       "match_city          0\n",
       "match_country       1\n",
       "home_team_result    0\n",
       "dtype: int64"
      ]
     },
     "execution_count": 94,
     "metadata": {},
     "output_type": "execute_result"
    }
   ],
   "source": [
    "d.isna().sum()"
   ]
  }
 ],
 "metadata": {
  "kernelspec": {
   "display_name": "Python 3",
   "language": "python",
   "name": "python3"
  },
  "language_info": {
   "codemirror_mode": {
    "name": "ipython",
    "version": 3
   },
   "file_extension": ".py",
   "mimetype": "text/x-python",
   "name": "python",
   "nbconvert_exporter": "python",
   "pygments_lexer": "ipython3",
   "version": "3.6.5"
  }
 },
 "nbformat": 4,
 "nbformat_minor": 2
}
